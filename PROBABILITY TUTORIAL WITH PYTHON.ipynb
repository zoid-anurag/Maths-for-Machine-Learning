{
 "cells": [
  {
   "cell_type": "markdown",
   "metadata": {},
   "source": [
    "# Probability\n",
    "### <i> Probability is simply a fraction whose numerator is the number of favorable cases and whose denominaotr is the number of all the cases possible. <i> ~ Laplace"
   ]
  },
  {
   "cell_type": "code",
   "execution_count": 1,
   "metadata": {},
   "outputs": [],
   "source": [
    "from fractions import Fraction\n",
    "\n",
    "def P(event, space):\n",
    "    \"The probability of an event, given a sample.\"\n",
    "    return Fraction(cases(favorable(event, space)),\n",
    "                   cases(space))\n",
    "\n",
    "favorable = set.intersection # outcomes that are in the event and in the sample space\n",
    "cases = len                  # The number of cases is the length, or size, of a set.\n"
   ]
  },
  {
   "cell_type": "markdown",
   "metadata": {},
   "source": [
    "## Warm-up Problem : Die Roll"
   ]
  },
  {
   "cell_type": "code",
   "execution_count": 2,
   "metadata": {},
   "outputs": [
    {
     "data": {
      "text/plain": [
       "Fraction(1, 2)"
      ]
     },
     "execution_count": 2,
     "metadata": {},
     "output_type": "execute_result"
    }
   ],
   "source": [
    "D = {1,2,3,4,5,6} # a sample space\n",
    "even = {2,4,6} # an event\n",
    "\n",
    "P(even, D)"
   ]
  },
  {
   "cell_type": "markdown",
   "metadata": {},
   "source": [
    "Some other events"
   ]
  },
  {
   "cell_type": "code",
   "execution_count": 3,
   "metadata": {},
   "outputs": [],
   "source": [
    "prime = {2,3,5,7,11,13}\n",
    "odd = {1,3,5,7,9,11,13}"
   ]
  },
  {
   "cell_type": "code",
   "execution_count": 4,
   "metadata": {},
   "outputs": [
    {
     "data": {
      "text/plain": [
       "Fraction(1, 2)"
      ]
     },
     "execution_count": 4,
     "metadata": {},
     "output_type": "execute_result"
    }
   ],
   "source": [
    "P(odd, D)"
   ]
  },
  {
   "cell_type": "code",
   "execution_count": 5,
   "metadata": {},
   "outputs": [
    {
     "data": {
      "text/plain": [
       "Fraction(5, 6)"
      ]
     },
     "execution_count": 5,
     "metadata": {},
     "output_type": "execute_result"
    }
   ],
   "source": [
    "P((even | prime), D) # The probability of an even or prime die roll"
   ]
  },
  {
   "cell_type": "code",
   "execution_count": 6,
   "metadata": {},
   "outputs": [
    {
     "data": {
      "text/plain": [
       "Fraction(1, 3)"
      ]
     },
     "execution_count": 6,
     "metadata": {},
     "output_type": "execute_result"
    }
   ],
   "source": [
    "P((odd & prime), D) # The probability of an odd prime die roll"
   ]
  },
  {
   "cell_type": "markdown",
   "metadata": {},
   "source": [
    "## Card Problems"
   ]
  },
  {
   "cell_type": "code",
   "execution_count": 7,
   "metadata": {},
   "outputs": [
    {
     "data": {
      "text/plain": [
       "52"
      ]
     },
     "execution_count": 7,
     "metadata": {},
     "output_type": "execute_result"
    }
   ],
   "source": [
    "suits = u'♥♠♦♣'\n",
    "ranks = u'AKQJT98765432'\n",
    "deck  = [r + s for r in ranks for s in suits]\n",
    "len(deck)"
   ]
  },
  {
   "cell_type": "markdown",
   "metadata": {},
   "source": [
    "Lets define <mark> Hands </mark> as the sample space of all 5-card combination from <mark> deck </mark>\n",
    "\n",
    " The function itertools.combinations does most of the work; we than concatenate each combination into a space-separated string:"
   ]
  },
  {
   "cell_type": "code",
   "execution_count": 11,
   "metadata": {},
   "outputs": [
    {
     "data": {
      "text/plain": [
       "2598960"
      ]
     },
     "execution_count": 11,
     "metadata": {},
     "output_type": "execute_result"
    }
   ],
   "source": [
    "import itertools\n",
    "def combos(items, n):\n",
    "    \"All combinations of n items; each combo as a space-seperated str. \"\n",
    "    return set(map(' '.join, itertools.combinations(items, n)))\n",
    "\n",
    "Hands = combos(deck, 5)\n",
    "len(Hands)"
   ]
  },
  {
   "cell_type": "code",
   "execution_count": 14,
   "metadata": {},
   "outputs": [
    {
     "data": {
      "text/plain": [
       "['Q♠ T♥ 7♥ 7♠ 6♥',\n",
       " 'A♣ Q♠ 8♥ 6♣ 5♦',\n",
       " 'J♠ T♥ 8♠ 6♣ 5♣',\n",
       " 'K♠ Q♥ Q♠ J♣ T♥',\n",
       " '7♥ 6♣ 4♦ 3♦ 2♣',\n",
       " 'A♠ A♦ K♥ 5♦ 4♦',\n",
       " '9♣ 8♣ 6♠ 6♣ 5♦',\n",
       " 'J♠ T♠ 9♠ 5♣ 3♦',\n",
       " 'A♠ 9♣ 7♣ 3♥ 2♠',\n",
       " 'Q♦ 8♣ 6♣ 5♠ 3♦']"
      ]
     },
     "execution_count": 14,
     "metadata": {},
     "output_type": "execute_result"
    }
   ],
   "source": [
    "list(Hands)[:10]"
   ]
  },
  {
   "cell_type": "code",
   "execution_count": 15,
   "metadata": {},
   "outputs": [
    {
     "data": {
      "text/plain": [
       "['K♦ 9♣ 7♠ 3♦ 2♦',\n",
       " 'K♣ T♠ 8♥ 7♣ 3♦',\n",
       " 'K♥ K♦ 6♦ 3♦ 2♦',\n",
       " 'A♥ 8♦ 7♣ 5♠ 5♦',\n",
       " '8♦ 5♥ 5♦ 5♣ 4♥',\n",
       " 'J♠ T♦ T♣ 7♥ 6♥',\n",
       " 'A♠ K♠ T♥ 9♠ 9♦']"
      ]
     },
     "execution_count": 15,
     "metadata": {},
     "output_type": "execute_result"
    }
   ],
   "source": [
    "import random\n",
    "random.sample(Hands, 7)"
   ]
  },
  {
   "cell_type": "code",
   "execution_count": 16,
   "metadata": {},
   "outputs": [
    {
     "data": {
      "text/plain": [
       "['J♣', '3♥', 'T♠', 'A♦', 'J♥', '9♣', '6♦']"
      ]
     },
     "execution_count": 16,
     "metadata": {},
     "output_type": "execute_result"
    }
   ],
   "source": [
    "random.sample(deck, 7)"
   ]
  },
  {
   "cell_type": "markdown",
   "metadata": {},
   "source": [
    "### Probability of dealing a Flush (5 cards of the same suit)"
   ]
  },
  {
   "cell_type": "code",
   "execution_count": 25,
   "metadata": {},
   "outputs": [
    {
     "name": "stdout",
     "output_type": "stream",
     "text": [
      "Help on method_descriptor:\n",
      "\n",
      "count(...)\n",
      "    S.count(sub[, start[, end]]) -> int\n",
      "    \n",
      "    Return the number of non-overlapping occurrences of substring sub in\n",
      "    string S[start:end].  Optional arguments start and end are\n",
      "    interpreted as in slice notation.\n",
      "\n"
     ]
    }
   ],
   "source": [
    "help(str.count)"
   ]
  },
  {
   "cell_type": "code",
   "execution_count": 26,
   "metadata": {},
   "outputs": [
    {
     "data": {
      "text/plain": [
       "Fraction(33, 16660)"
      ]
     },
     "execution_count": 26,
     "metadata": {},
     "output_type": "execute_result"
    }
   ],
   "source": [
    "flush = {hand for hand in Hands if any(hand.count(suit) == 5 for suit in suits)}\n",
    "\n",
    "P(flush, Hands)"
   ]
  },
  {
   "cell_type": "markdown",
   "metadata": {},
   "source": [
    "### Probability of four of a kind"
   ]
  },
  {
   "cell_type": "code",
   "execution_count": 27,
   "metadata": {},
   "outputs": [
    {
     "data": {
      "text/plain": [
       "Fraction(1, 4165)"
      ]
     },
     "execution_count": 27,
     "metadata": {},
     "output_type": "execute_result"
    }
   ],
   "source": [
    "four_kind = {hand for hand in Hands if any(hand.count(rank)  == 4 for rank in ranks)}\n",
    "P(four_kind, Hands)"
   ]
  },
  {
   "cell_type": "markdown",
   "metadata": {},
   "source": [
    "## Urn Problems"
   ]
  },
  {
   "cell_type": "markdown",
   "metadata": {},
   "source": [
    "A three part problem  :: \n",
    "        \n",
    " <b>   An urn contains 6 blue, 9 red, and 8 white balls. We select six balls at random. What is the probability of each of these outcomes: </b>\n",
    "\n",
    "<ul>\n",
    "    <li>All balls are red.</li>\n",
    "    <li>3 are blue, and 1 is red, and 2 are white, . </li>\n",
    "    <li>Exactly 4 balls are white. </li>  \n",
    "</ul>"
   ]
  },
  {
   "cell_type": "code",
   "execution_count": 29,
   "metadata": {},
   "outputs": [
    {
     "data": {
      "text/plain": [
       "{'B1',\n",
       " 'B2',\n",
       " 'B3',\n",
       " 'B4',\n",
       " 'B5',\n",
       " 'B6',\n",
       " 'R1',\n",
       " 'R2',\n",
       " 'R3',\n",
       " 'R4',\n",
       " 'R5',\n",
       " 'R6',\n",
       " 'R7',\n",
       " 'R8',\n",
       " 'R9',\n",
       " 'W1',\n",
       " 'W2',\n",
       " 'W3',\n",
       " 'W4',\n",
       " 'W5',\n",
       " 'W6',\n",
       " 'W7',\n",
       " 'W8'}"
      ]
     },
     "execution_count": 29,
     "metadata": {},
     "output_type": "execute_result"
    }
   ],
   "source": [
    "def balls(color, n):\n",
    "    \"A set of n numbered balls of the given color.\"\n",
    "    return {color + str(i)\n",
    "            for i in range(1, n + 1)}\n",
    "\n",
    "urn = balls('B', 6 ) | balls('R', 9 ) | balls('W', 8 )\n",
    "urn"
   ]
  },
  {
   "cell_type": "markdown",
   "metadata": {},
   "source": [
    "Sample space - All the six ball combinations"
   ]
  },
  {
   "cell_type": "code",
   "execution_count": 33,
   "metadata": {},
   "outputs": [
    {
     "name": "stdout",
     "output_type": "stream",
     "text": [
      "100947\n"
     ]
    },
    {
     "data": {
      "text/plain": [
       "['W4 W3 R6 W5 W2 B5',\n",
       " 'B4 W6 B6 W2 R1 B5',\n",
       " 'W4 W3 B1 W6 W7 B2',\n",
       " 'R8 W6 W5 B6 R3 B5',\n",
       " 'W3 W8 R6 R3 W7 R7']"
      ]
     },
     "execution_count": 33,
     "metadata": {},
     "output_type": "execute_result"
    }
   ],
   "source": [
    "U6 = combos(urn, 6)\n",
    "print(len(U6))\n",
    "random.sample(U6, 5)"
   ]
  },
  {
   "cell_type": "markdown",
   "metadata": {},
   "source": [
    "Define <mark>select</mark> such that <mark>select('R', 6)</mark> is the event of picking 6 red balls from the urn:\n",
    "\n"
   ]
  },
  {
   "cell_type": "code",
   "execution_count": 31,
   "metadata": {},
   "outputs": [],
   "source": [
    "def select(color, n , space=U6):\n",
    "    \"The subset of the sample space with exactly 'n' balls of given 'color' .\"\n",
    "    return {s for s in space if s.count(color) == n}"
   ]
  },
  {
   "cell_type": "markdown",
   "metadata": {},
   "source": [
    "\n",
    "Now let's answer the above questions:"
   ]
  },
  {
   "cell_type": "code",
   "execution_count": 32,
   "metadata": {},
   "outputs": [
    {
     "data": {
      "text/plain": [
       "Fraction(4, 4807)"
      ]
     },
     "execution_count": 32,
     "metadata": {},
     "output_type": "execute_result"
    }
   ],
   "source": [
    "P(select('R', 6), U6)"
   ]
  },
  {
   "cell_type": "code",
   "execution_count": 35,
   "metadata": {},
   "outputs": [
    {
     "data": {
      "text/plain": [
       "Fraction(240, 4807)"
      ]
     },
     "execution_count": 35,
     "metadata": {},
     "output_type": "execute_result"
    }
   ],
   "source": [
    "P(select('B', 3) & select('R', 1) & select('W', 2), U6)"
   ]
  },
  {
   "cell_type": "code",
   "execution_count": 37,
   "metadata": {},
   "outputs": [
    {
     "data": {
      "text/plain": [
       "Fraction(350, 4807)"
      ]
     },
     "execution_count": 37,
     "metadata": {},
     "output_type": "execute_result"
    }
   ],
   "source": [
    "P(select('W', 4), U6)"
   ]
  },
  {
   "cell_type": "markdown",
   "metadata": {},
   "source": [
    "### Urn problems via arithmetic"
   ]
  },
  {
   "cell_type": "markdown",
   "metadata": {},
   "source": [
    "Let's verify these calculations using basic arithmetic, rather than exhaustive counting. First, how many ways can I choose 6 out of 9 red balls? It could be any of the 9 for the first ball, any of 8 remaining for the second, and so on down to any of the remaining 4 for the sixth and final ball. But we don't care about the order of the six balls, so divide that product by the number of permutations of 6 things, which is 6!, giving us 9 × 8 × 7 × 6 × 5 × 4 / 6! = 84. In general, the number of ways of choosing c out of n items is (n choose c) = n! / ((n - c)! × c!). We can translate that to code:"
   ]
  },
  {
   "cell_type": "code",
   "execution_count": 43,
   "metadata": {},
   "outputs": [],
   "source": [
    "from math import factorial\n",
    "\n",
    "def choose(n, c):\n",
    "    \"Number of ways tochoosecitems from a list of n items\"\n",
    "    return factorial(n)// (factorial(n-c) * factorial(c))"
   ]
  },
  {
   "cell_type": "code",
   "execution_count": 44,
   "metadata": {},
   "outputs": [
    {
     "data": {
      "text/plain": [
       "84"
      ]
     },
     "execution_count": 44,
     "metadata": {},
     "output_type": "execute_result"
    }
   ],
   "source": [
    "choose(9, 6)"
   ]
  },
  {
   "cell_type": "markdown",
   "metadata": {},
   "source": [
    "Now we can verify the answers to the three problems. (Since <mark>P</mark> computes a ratio and <mark>choose</mark> computes a count, I multiply the left-hand-side by <mark>N</mark>, the length of the sample space, to make both sides be counts.)"
   ]
  },
  {
   "cell_type": "code",
   "execution_count": 45,
   "metadata": {},
   "outputs": [
    {
     "data": {
      "text/plain": [
       "True"
      ]
     },
     "execution_count": 45,
     "metadata": {},
     "output_type": "execute_result"
    }
   ],
   "source": [
    "N = len(U6)\n",
    "\n",
    "N * P(select('R', 6), U6) == choose(9, 6)"
   ]
  },
  {
   "cell_type": "code",
   "execution_count": 46,
   "metadata": {},
   "outputs": [
    {
     "data": {
      "text/plain": [
       "True"
      ]
     },
     "execution_count": 46,
     "metadata": {},
     "output_type": "execute_result"
    }
   ],
   "source": [
    "N * P(select('B', 3) & select('R', 1) & select('W', 2), U6) == choose(6, 3) * choose(8, 2) * choose(9, 1)"
   ]
  },
  {
   "cell_type": "code",
   "execution_count": 47,
   "metadata": {},
   "outputs": [
    {
     "data": {
      "text/plain": [
       "True"
      ]
     },
     "execution_count": 47,
     "metadata": {},
     "output_type": "execute_result"
    }
   ],
   "source": [
    "N * P(select('W', 4), U6) == choose(8, 4) * choose(6 + 9, 2)  # (6 + 9 non-white balls)"
   ]
  },
  {
   "cell_type": "markdown",
   "metadata": {},
   "source": [
    "## Non-Equiprobable Outcomes"
   ]
  },
  {
   "cell_type": "markdown",
   "metadata": {},
   "source": [
    "So far, we have accepted Laplace's assumption that <i> nothing leads us to expect that any one of these cases should occur more than any other </i>. In real life, we often get outcomes that are not equiprobable--for example, a loaded die favors one side over the others. We will introduce three more vocabulary items:\n",
    "<ul>\n",
    "    <li> <u>Frequency </u>: a non-negative number describing how often an outcome occurs. Can be a count like 5, or a ratio like 1/6.</li>\n",
    "\n",
    "<li> <u>Distribution </u>: A mapping from outcome to frequency of that outcome. We will allow sample spaces to be distributions.</li>\n",
    "\n",
    "<li> <u>Probability Distribution </u>: A probability distribution is a distribution whose frequencies sum to 1.</li>\n",
    "</ul>"
   ]
  },
  {
   "cell_type": "code",
   "execution_count": 48,
   "metadata": {},
   "outputs": [],
   "source": [
    "from collections import Counter\n",
    "\n",
    "class Dist(Counter):\n",
    "    \"\"\"A Distribution of {outcome : frequency} pairs.\"\"\""
   ]
  },
  {
   "cell_type": "code",
   "execution_count": 49,
   "metadata": {},
   "outputs": [
    {
     "data": {
      "text/plain": [
       "Dist({1: 1, 2: 1, 3: 1, 4: 1, 5: 1, 6: 1})"
      ]
     },
     "execution_count": 49,
     "metadata": {},
     "output_type": "execute_result"
    }
   ],
   "source": [
    "# A set of equiprobable outcomes:\n",
    "Dist({1, 2, 3, 4 , 5, 6})"
   ]
  },
  {
   "cell_type": "markdown",
   "metadata": {},
   "source": [
    "Because a <mark>Dist</mark> is a <mark>Counter</mark>, we can initialize it in any of the following ways:\n",
    "\n"
   ]
  },
  {
   "cell_type": "code",
   "execution_count": 50,
   "metadata": {},
   "outputs": [
    {
     "data": {
      "text/plain": [
       "Dist({'T': 4, 'H': 5})"
      ]
     },
     "execution_count": 50,
     "metadata": {},
     "output_type": "execute_result"
    }
   ],
   "source": [
    "# A collection of outcomes, with repetition indicating frequency:\n",
    "\n",
    "Dist('THHHTTHHT')"
   ]
  },
  {
   "cell_type": "code",
   "execution_count": 51,
   "metadata": {},
   "outputs": [
    {
     "data": {
      "text/plain": [
       "Dist({'H': 5, 'T': 4})"
      ]
     },
     "execution_count": 51,
     "metadata": {},
     "output_type": "execute_result"
    }
   ],
   "source": [
    "# A mapping of {outcome: frequency} pairs:\n",
    "\n",
    "Dist({'H' : 5, 'T': 4})"
   ]
  },
  {
   "cell_type": "code",
   "execution_count": 52,
   "metadata": {},
   "outputs": [
    {
     "data": {
      "text/plain": [
       "True"
      ]
     },
     "execution_count": 52,
     "metadata": {},
     "output_type": "execute_result"
    }
   ],
   "source": [
    "# Keyword arguments:\n",
    "Dist(H=5, T=4) == Dist({'H' : 5}, T=4) == Dist('TTTT', H=5)"
   ]
  },
  {
   "cell_type": "markdown",
   "metadata": {},
   "source": [
    "Now I will modify the code to handle distributions. Here's my plan:\n",
    "<ul>\n",
    "<li>Sample spaces and events can both be specified as either a set or a Dist.</li>\n",
    "<li>The sample space can be a non-probability distribution like Dist(H=50, T=50); the results will be the same as if the sample space had been a true probability distribution like Dist(H=1/2, T=1/2).</li>\n",
    "<li>The function cases now sums the frequencies in a distribution (it previously counted the length).</li>\n",
    "<li>The function favorable now returns a Dist of favorable outcomes and their frequencies (not a set).</li>\n",
    "<li>I will redefine Fraction to use \"/\", not fractions.Fraction, because frequencies might be floats.</li>\n",
    "    <li>P is unchanged.</li>"
   ]
  },
  {
   "cell_type": "code",
   "execution_count": 53,
   "metadata": {},
   "outputs": [],
   "source": [
    "def cases(outcomes):\n",
    "    \"The total frequency of all the outcomes\"\n",
    "    return sum(Dist(outcomes).values())\n",
    "\n",
    "def favorable(event, space):\n",
    "    \"A distribution of outcomes from the sample space that are in the event.\"\n",
    "    space = Dist(space)\n",
    "    return Dist({x : space[x]\n",
    "                for x in space if x in event})\n",
    "\n",
    "def Fraction(n,d): return n/d\n"
   ]
  },
  {
   "cell_type": "markdown",
   "metadata": {},
   "source": [
    "probability of rolling an even number with a crooked die that is loaded to prefer 6:"
   ]
  },
  {
   "cell_type": "code",
   "execution_count": 54,
   "metadata": {},
   "outputs": [
    {
     "data": {
      "text/plain": [
       "0.7"
      ]
     },
     "execution_count": 54,
     "metadata": {},
     "output_type": "execute_result"
    }
   ],
   "source": [
    "Crooked = Dist({1 : 0.1, 2:0.1, 3:0.1, 4:0.1, 5:0.1, 6:0.5})\n",
    "P(even, Crooked)"
   ]
  },
  {
   "cell_type": "markdown",
   "metadata": {},
   "source": [
    "As another example, an [article](http://people.kzoo.edu/barth/math105/moreboys.pdf) gives the following counts for two-child families in Denmark, where `GB` means a family where the first child is a girl and the second a boy (I'm aware that not all births can be classified as the binary \"boy\" or \"girl,\" but the data was reported that way):\n",
    "\n",
    "    GG: 121801    GB: 126840\n",
    "    BG: 127123    BB: 135138"
   ]
  },
  {
   "cell_type": "code",
   "execution_count": 55,
   "metadata": {},
   "outputs": [],
   "source": [
    "DK = Dist(GG = 121801, GB = 126840,\n",
    "         BG = 127123, BB = 135138)"
   ]
  },
  {
   "cell_type": "code",
   "execution_count": 56,
   "metadata": {},
   "outputs": [
    {
     "data": {
      "text/plain": [
       "Dist({'GG': 121801, 'GB': 126840, 'BG': 127123, 'BB': 135138})"
      ]
     },
     "execution_count": 56,
     "metadata": {},
     "output_type": "execute_result"
    }
   ],
   "source": [
    "DK"
   ]
  },
  {
   "cell_type": "code",
   "execution_count": 57,
   "metadata": {},
   "outputs": [
    {
     "data": {
      "text/plain": [
       "0.48667063350701306"
      ]
     },
     "execution_count": 57,
     "metadata": {},
     "output_type": "execute_result"
    }
   ],
   "source": [
    "first_girl = {'GG', 'GB'}\n",
    "P(first_girl, DK)"
   ]
  },
  {
   "cell_type": "code",
   "execution_count": 59,
   "metadata": {},
   "outputs": [
    {
     "data": {
      "text/plain": [
       "0.4872245557856497"
      ]
     },
     "execution_count": 59,
     "metadata": {},
     "output_type": "execute_result"
    }
   ],
   "source": [
    "second_girl = {'GG', 'BG'}\n",
    "P(second_girl, DK)"
   ]
  },
  {
   "cell_type": "markdown",
   "metadata": {},
   "source": [
    "This says that the probability of a girl is somewhere between 48% and 49%. The probability of a girl is very slightly higher for the second child. \n",
    "\n",
    "Given the first child, are you more likely to have a second child of the same sex?"
   ]
  },
  {
   "cell_type": "code",
   "execution_count": 61,
   "metadata": {},
   "outputs": [
    {
     "data": {
      "text/plain": [
       "0.5029124959385557"
      ]
     },
     "execution_count": 61,
     "metadata": {},
     "output_type": "execute_result"
    }
   ],
   "source": [
    "same = {'GG', 'BB'}\n",
    "P(same, DK)"
   ]
  },
  {
   "cell_type": "markdown",
   "metadata": {},
   "source": [
    "Yes, but only by about 0.3%."
   ]
  },
  {
   "cell_type": "markdown",
   "metadata": {},
   "source": [
    "## Predicates as events"
   ]
  },
  {
   "cell_type": "markdown",
   "metadata": {},
   "source": [
    "To calculate the probability of an even die roll, I originally said\n",
    "\n",
    "    even = {2, 4, 6}\n",
    "    \n",
    "But that's inelegant&mdash;I had to explicitly enumerate all the even numbers from one to six. If I ever wanted to deal with a twelve or twenty-sided die, I would have to go back and redefine `even`.  I would prefer to define `even` once and for all like this:"
   ]
  },
  {
   "cell_type": "code",
   "execution_count": 62,
   "metadata": {},
   "outputs": [],
   "source": [
    "def even(n): return n % 2 == 0"
   ]
  },
  {
   "cell_type": "markdown",
   "metadata": {},
   "source": [
    "Now in order to make `P(even, D)` work, I'll allow an `Event` to be either a collection of outcomes or a `callable` predicate (that is, a function that returns true for outcomes that are part of the event). I don't need to modify `P`, but  `favorable` will have  to convert a callable `event` to a `set`:"
   ]
  },
  {
   "cell_type": "code",
   "execution_count": 63,
   "metadata": {},
   "outputs": [],
   "source": [
    "def favorable(event, space):\n",
    "    \"A distribution of outcomes from the sample space that are in the event.\"\n",
    "    if callable(event):\n",
    "        event = {x for x in space if event(x)}\n",
    "    space =Dist(space)\n",
    "    return Dist({x : space[x]\n",
    "                for x in space if x in event})"
   ]
  },
  {
   "cell_type": "code",
   "execution_count": 64,
   "metadata": {},
   "outputs": [
    {
     "data": {
      "text/plain": [
       "Dist({2: 1, 4: 1, 6: 1})"
      ]
     },
     "execution_count": 64,
     "metadata": {},
     "output_type": "execute_result"
    }
   ],
   "source": [
    "favorable(even, D)"
   ]
  },
  {
   "cell_type": "code",
   "execution_count": 65,
   "metadata": {},
   "outputs": [
    {
     "data": {
      "text/plain": [
       "0.5"
      ]
     },
     "execution_count": 65,
     "metadata": {},
     "output_type": "execute_result"
    }
   ],
   "source": [
    "P(even, D)"
   ]
  },
  {
   "cell_type": "markdown",
   "metadata": {},
   "source": [
    "I'll define `die` to make a sample space for an *n*-sided die:"
   ]
  },
  {
   "cell_type": "code",
   "execution_count": 66,
   "metadata": {},
   "outputs": [],
   "source": [
    "def die(n): return set(range(1, n+1))"
   ]
  },
  {
   "cell_type": "code",
   "execution_count": 67,
   "metadata": {},
   "outputs": [
    {
     "data": {
      "text/plain": [
       "Dist({2: 1, 4: 1, 6: 1, 8: 1, 10: 1, 12: 1})"
      ]
     },
     "execution_count": 67,
     "metadata": {},
     "output_type": "execute_result"
    }
   ],
   "source": [
    "favorable(even, die(12))"
   ]
  },
  {
   "cell_type": "code",
   "execution_count": 68,
   "metadata": {},
   "outputs": [
    {
     "data": {
      "text/plain": [
       "0.5"
      ]
     },
     "execution_count": 68,
     "metadata": {},
     "output_type": "execute_result"
    }
   ],
   "source": [
    "P(even, die(12))"
   ]
  },
  {
   "cell_type": "code",
   "execution_count": 69,
   "metadata": {},
   "outputs": [
    {
     "data": {
      "text/plain": [
       "0.5"
      ]
     },
     "execution_count": 69,
     "metadata": {},
     "output_type": "execute_result"
    }
   ],
   "source": [
    "P(even, die(2000))"
   ]
  },
  {
   "cell_type": "code",
   "execution_count": 70,
   "metadata": {},
   "outputs": [
    {
     "data": {
      "text/plain": [
       "0.49975012493753124"
      ]
     },
     "execution_count": 70,
     "metadata": {},
     "output_type": "execute_result"
    }
   ],
   "source": [
    "P(even, die(2001))"
   ]
  },
  {
   "cell_type": "markdown",
   "metadata": {},
   "source": [
    "We can define more interesting events using predicates; for example we can determine the probability that the sum of  rolling *d* 6-sided dice is prime:"
   ]
  },
  {
   "cell_type": "code",
   "execution_count": 71,
   "metadata": {},
   "outputs": [
    {
     "name": "stdout",
     "output_type": "stream",
     "text": [
      "P(is_prime, sum_dice(1)) = 0.5\n",
      "P(is_prime, sum_dice(2)) = 0.417\n",
      "P(is_prime, sum_dice(3)) = 0.338\n",
      "P(is_prime, sum_dice(4)) = 0.333\n",
      "P(is_prime, sum_dice(5)) = 0.317\n",
      "P(is_prime, sum_dice(6)) = 0.272\n",
      "P(is_prime, sum_dice(7)) = 0.242\n",
      "P(is_prime, sum_dice(8)) = 0.236\n"
     ]
    }
   ],
   "source": [
    "def sum_dice(d): return Dist(sum(dice) for dice in itertools.product(D, repeat=d))\n",
    "\n",
    "def is_prime(n): return (n > 1 and not any(n % i == 0 for i in range(2, n)))\n",
    "\n",
    "for d in range(1, 9):\n",
    "    p = P(is_prime, sum_dice(d))\n",
    "    print(\"P(is_prime, sum_dice({})) = {}\".format(d, round(p, 3)))"
   ]
  },
  {
   "cell_type": "code",
   "execution_count": 72,
   "metadata": {},
   "outputs": [],
   "source": [
    "?itertools.product"
   ]
  },
  {
   "cell_type": "code",
   "execution_count": null,
   "metadata": {},
   "outputs": [],
   "source": []
  }
 ],
 "metadata": {
  "kernelspec": {
   "display_name": "Python 3",
   "language": "python",
   "name": "python3"
  },
  "language_info": {
   "codemirror_mode": {
    "name": "ipython",
    "version": 3
   },
   "file_extension": ".py",
   "mimetype": "text/x-python",
   "name": "python",
   "nbconvert_exporter": "python",
   "pygments_lexer": "ipython3",
   "version": "3.6.5"
  }
 },
 "nbformat": 4,
 "nbformat_minor": 2
}
